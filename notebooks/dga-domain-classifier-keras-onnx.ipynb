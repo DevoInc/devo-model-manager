{
 "cells": [
  {
   "cell_type": "markdown",
   "metadata": {
    "id": "C0WH43yucQ_8"
   },
   "source": [
    "# DGA domain classifier (Keras-ONNX)\n"
   ]
  },
  {
   "cell_type": "markdown",
   "metadata": {
    "id": "GbGfa60XcQ_9"
   },
   "source": [
    "This tutorial is related to the GDA domain classifier using H2O engine tutorial but in this case is used Keras as machine learning engine.\n",
    "\n",
    "In Devo, it's neccesary to convert the Keras model to ONNX format in order to productionalize your model."
   ]
  },
  {
   "cell_type": "markdown",
   "metadata": {
    "id": "mIwhKqSNcQ_-"
   },
   "source": [
    "## Requirements"
   ]
  },
  {
   "cell_type": "markdown",
   "metadata": {
    "id": "focO0DR5cQ_-"
   },
   "source": [
    "Table ``demo.ecommerce.data`` in Devo."
   ]
  },
  {
   "cell_type": "markdown",
   "metadata": {
    "id": "GTjiN2N5cQ_-",
    "tags": []
   },
   "source": [
    "## Install"
   ]
  },
  {
   "cell_type": "code",
   "execution_count": null,
   "metadata": {
    "id": "B2kZPrbocQ_-",
    "jupyter": {
     "outputs_hidden": false
    }
   },
   "outputs": [],
   "source": [
    "!pip install devo-sdk\n",
    "!pip install devo-mlmodelmanager\n",
    "!pip install tensorflow\n",
    "!pip install tf2onnx\n",
    "!pip install scikit-learn\n",
    "!pip install numpy\n",
    "!pip install pandas"
   ]
  },
  {
   "cell_type": "markdown",
   "metadata": {
    "id": "4eFHsKtFcQ__"
   },
   "source": [
    "## Imports"
   ]
  },
  {
   "cell_type": "code",
   "execution_count": null,
   "metadata": {
    "id": "5ysCHizwcQ__",
    "jupyter": {
     "outputs_hidden": false
    }
   },
   "outputs": [],
   "source": [
    "import os\n",
    "import math\n",
    "import numpy as np\n",
    "import pandas as pd\n",
    "import seaborn as sns\n",
    "import tensorflow as tf\n",
    "import tf2onnx\n",
    "\n",
    "from collections import Counter\n",
    "from sklearn.preprocessing import LabelEncoder\n",
    "from devo.api import Client, ClientConfig, SIMPLECOMPACT_TO_OBJ\n",
    "from devo_ml.modelmanager import create_client_from_token, engines"
   ]
  },
  {
   "cell_type": "markdown",
   "metadata": {
    "id": "V7KgpkztcQ__"
   },
   "source": [
    "## Setup"
   ]
  },
  {
   "cell_type": "code",
   "execution_count": null,
   "metadata": {
    "id": "VYEsBQYRcQ__",
    "jupyter": {
     "outputs_hidden": false
    }
   },
   "outputs": [],
   "source": [
    "# A valid Devo access token\n",
    "DEVO_TOKEN = ''\n",
    "\n",
    "# URL of Devo API, e.g. https://apiv2-us.devo.com/search/query/\n",
    "DEVO_API_URL = ''\n",
    "\n",
    "# URL of Devo ML Model Manager, e.g. https://api-us.devo.com/mlmodelmanager/\n",
    "DEVO_MLMM_URL = ''\n",
    "\n",
    "# The domain to connect to, e.g. self\n",
    "DOMAIN = ''\n",
    "\n",
    "# The name of the model\n",
    "MODEL_NAME = 'dga_classifier_onnx'\n",
    "\n",
    "# The description of the models\n",
    "MODEL_DESCRIPTION = 'DGA domain classifier (Keras-ONNX)'\n",
    "\n",
    "# File to store the onnx model\n",
    "MODEL_FILE = f'{MODEL_NAME}.onnx'\n",
    "\n",
    "# The URL of a dataset to build the model\n",
    "DATASET_URL = \"https://devo-ml-models-public-demos.s3.eu-west-3.amazonaws.com/legit_dga/dataset.csv\"\n",
    "\n",
    "VOWELS = \"aeiouAEIOU\""
   ]
  },
  {
   "cell_type": "code",
   "execution_count": null,
   "metadata": {
    "id": "gUHNcUwHerg3"
   },
   "outputs": [],
   "source": [
    "# fix random seed for reproducibility\n",
    "seed = 42\n",
    "np.random.seed(seed)"
   ]
  },
  {
   "cell_type": "markdown",
   "metadata": {
    "id": "VIeChAoDfXC7"
   },
   "source": [
    "### Encoding the Output/Response Variable"
   ]
  },
  {
   "cell_type": "code",
   "execution_count": null,
   "metadata": {
    "colab": {
     "base_uri": "https://localhost:8080/"
    },
    "id": "bGOZdFslfpcP",
    "outputId": "0d7e4961-3fc1-4de6-ff29-40c5295564bd"
   },
   "outputs": [],
   "source": [
    "domains = pd.read_csv(DATASET_URL, ';')"
   ]
  },
  {
   "cell_type": "code",
   "execution_count": null,
   "metadata": {
    "id": "nHeVo2zfhHvf"
   },
   "outputs": [],
   "source": [
    "'''\n",
    "Prepare data set\n",
    "    1. Domain length\n",
    "    2. Shannon entropy\n",
    "    3. Vowel proportion\n",
    "    4. Malicious flag\n",
    "'''\n",
    "\n",
    "def entropy(s):\n",
    "    l = len(s)\n",
    "    return -sum(map(lambda a: (a/l)*math.log2(a/l), Counter(s).values()))\n",
    "\n",
    "\n",
    "domains = domains[~domains['subclass'].isna()]\n",
    "domains['length'] = domains['domain'].str.len()\n",
    "domains['entropy'] = domains['domain'].apply(lambda row: entropy(row))\n",
    "domains['vowel_proportion'] = 0\n",
    "for v in VOWELS:\n",
    "    domains['vowel_proportion'] += domains['domain'].str.count(v)\n",
    "domains['vowel_proportion'] /= domains['length']\n",
    "domains['malicious'] = domains['class'] != 'legit'"
   ]
  },
  {
   "cell_type": "code",
   "execution_count": null,
   "metadata": {
    "colab": {
     "base_uri": "https://localhost:8080/",
     "height": 206
    },
    "id": "kZBX4sO4gccS",
    "outputId": "e377bf50-9c2a-476c-acf4-8b7c706645ba"
   },
   "outputs": [],
   "source": [
    "domains.head()"
   ]
  },
  {
   "cell_type": "code",
   "execution_count": null,
   "metadata": {
    "colab": {
     "base_uri": "https://localhost:8080/"
    },
    "id": "pbWXMA9hgZRb",
    "outputId": "4453b5c4-336f-43ad-d6bc-9c62cafb2dc7"
   },
   "outputs": [],
   "source": [
    "Y = domains['malicious']\n",
    "X = domains.drop(['host', 'domain', 'class', 'subclass', 'malicious'], axis=1)\n",
    "print(\"Shape of Input  features: {}\".format(X.shape))\n",
    "print(\"Shape of Output features: {}\".format(Y.shape))"
   ]
  },
  {
   "cell_type": "code",
   "execution_count": null,
   "metadata": {
    "colab": {
     "base_uri": "https://localhost:8080/"
    },
    "id": "wjbgFPv4kMTb",
    "outputId": "2ab530fd-90f7-4c39-94a8-238453ac1f68"
   },
   "outputs": [],
   "source": [
    "lbl_clf = LabelEncoder()\n",
    "Y_encoded = lbl_clf.fit_transform(Y)\n",
    "\n",
    "#Keras requires your output feature to be one-hot encoded values.\n",
    "Y_final = tf.keras.utils.to_categorical(Y_encoded)\n",
    "\n",
    "print(\"Therefore, our final shape of output feature will be {}\".format(Y_final.shape))"
   ]
  },
  {
   "cell_type": "markdown",
   "metadata": {
    "id": "YZ4q1sVUcQ__"
   },
   "source": [
    "## ML model"
   ]
  },
  {
   "cell_type": "code",
   "execution_count": null,
   "metadata": {
    "colab": {
     "base_uri": "https://localhost:8080/"
    },
    "id": "V21aLu6ycQ__",
    "jupyter": {
     "outputs_hidden": false
    },
    "outputId": "fdb8ab73-8908-4c0e-9364-01ded4be60e3"
   },
   "outputs": [],
   "source": [
    "model = tf.keras.models.Sequential()\n",
    "model.add(tf.keras.layers.Dense(\n",
    "    10,\n",
    "    input_dim=3,\n",
    "    activation=tf.nn.relu,\n",
    "    kernel_initializer='he_normal',\n",
    "    kernel_regularizer=tf.keras.regularizers.l2(0.01)\n",
    "))\n",
    "model.add(tf.keras.layers.BatchNormalization())\n",
    "model.add(tf.keras.layers.Dropout(0.3))\n",
    "model.add(tf.keras.layers.Dense(\n",
    "    7,\n",
    "    activation=tf.nn.relu,\n",
    "    kernel_initializer='he_normal',\n",
    "    kernel_regularizer=tf.keras.regularizers.l1_l2(l1=0.001, l2=0.001)\n",
    "))\n",
    "model.add(tf.keras.layers.BatchNormalization())\n",
    "model.add(tf.keras.layers.Dropout(0.3))\n",
    "model.add(tf.keras.layers.Dense(\n",
    "    5,\n",
    "    activation=tf.nn.relu,\n",
    "    kernel_initializer='he_normal',\n",
    "    kernel_regularizer=tf.keras.regularizers.l1_l2(l1=0.001, l2=0.001)\n",
    "))\n",
    "model.add(tf.keras.layers.Dense(2, activation=tf.nn.softmax))\n"
   ]
  },
  {
   "cell_type": "code",
   "execution_count": null,
   "metadata": {},
   "outputs": [],
   "source": [
    "model.compile(optimizer='adam', loss='categorical_crossentropy', metrics=['accuracy'])\n",
    "model.fit(X , Y_final , epochs=10,  batch_size=7)"
   ]
  },
  {
   "cell_type": "markdown",
   "metadata": {
    "id": "e2J75TK_pBu8"
   },
   "source": [
    "## Transform to ONNX"
   ]
  },
  {
   "cell_type": "code",
   "execution_count": null,
   "metadata": {
    "id": "Do4Qm5jnpCBZ"
   },
   "outputs": [],
   "source": [
    "onnx_model = tf2onnx.convert.from_keras(model, opset=13, output_path=MODEL_FILE)"
   ]
  },
  {
   "cell_type": "markdown",
   "metadata": {
    "id": "girWNZzIcRAA"
   },
   "source": [
    "## Register the model in Devo"
   ]
  },
  {
   "cell_type": "code",
   "execution_count": null,
   "metadata": {
    "id": "DDBsQue4cRAA",
    "jupyter": {
     "outputs_hidden": false
    }
   },
   "outputs": [],
   "source": [
    "mlmm = create_client_from_token(DEVO_MLMM_URL, DEVO_TOKEN)"
   ]
  },
  {
   "cell_type": "code",
   "execution_count": null,
   "metadata": {
    "id": "AMpw_LyzcRAA",
    "jupyter": {
     "outputs_hidden": false
    }
   },
   "outputs": [],
   "source": [
    "mlmm.add_model(\n",
    "    MODEL_NAME,\n",
    "    engines.ONNX,\n",
    "    MODEL_FILE,\n",
    "    description=MODEL_DESCRIPTION,\n",
    "    force=True\n",
    ")"
   ]
  },
  {
   "cell_type": "markdown",
   "metadata": {
    "id": "mhDb5sdUcRAA"
   },
   "source": [
    "## Classify DGA domains"
   ]
  },
  {
   "cell_type": "code",
   "execution_count": null,
   "metadata": {
    "id": "SrSV_vI_cRAB",
    "jupyter": {
     "outputs_hidden": false
    }
   },
   "outputs": [],
   "source": [
    "# use in the query the mlevalmodel operator to evaluate the model\n",
    "\n",
    "query = f'''from demo.ecommerce.data\n",
    "  select split(referralUri, \"/\",2) as domain,\n",
    "  float(length(domain)) as length,\n",
    "  shannonentropy(domain) as entropy,\n",
    "  float(countbyfilter(domain, \"{VOWELS}\")) as vowel_proportion,\n",
    "  at(mlevalmodel(\"{DOMAIN}\", \"{MODEL_NAME}\", [float4(length), float4(vowel_proportion)]),0) as res,\n",
    "  ifthenelse(res>0.5, \"false\", \"true\") as isMalicious\n",
    "'''"
   ]
  },
  {
   "cell_type": "code",
   "execution_count": null,
   "metadata": {
    "id": "S3O6FAFscRAB",
    "jupyter": {
     "outputs_hidden": false
    }
   },
   "outputs": [],
   "source": [
    "api = Client(\n",
    "    auth={\"token\": DEVO_TOKEN},\n",
    "    address=DEVO_API_URL,\n",
    "    config=ClientConfig(\n",
    "        response=\"json/simple/compact\",\n",
    "        stream=True,\n",
    "        processor=SIMPLECOMPACT_TO_OBJ\n",
    "    )\n",
    ")"
   ]
  },
  {
   "cell_type": "code",
   "execution_count": null,
   "metadata": {
    "colab": {
     "base_uri": "https://localhost:8080/",
     "height": 1000
    },
    "id": "s_e8OWhpcRAB",
    "jupyter": {
     "outputs_hidden": false
    },
    "outputId": "4320fa2d-054c-424d-b001-7e2b9046d910"
   },
   "outputs": [],
   "source": [
    "response = api.query(query=query, dates={'from': \"now()-1*hour()\"})\n",
    "for row in response:\n",
    "    print(\"domain: \",row['domain'], \"isMalicious:\", row['isMalicious'])\n"
   ]
  }
 ],
 "metadata": {
  "colab": {
   "provenance": []
  },
  "kernelspec": {
   "display_name": "Python 3 (ipykernel)",
   "language": "python",
   "name": "python3"
  },
  "language_info": {
   "codemirror_mode": {
    "name": "ipython",
    "version": 3
   },
   "file_extension": ".py",
   "mimetype": "text/x-python",
   "name": "python",
   "nbconvert_exporter": "python",
   "pygments_lexer": "ipython3",
   "version": "3.8.10"
  }
 },
 "nbformat": 4,
 "nbformat_minor": 0
}
