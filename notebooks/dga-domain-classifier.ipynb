{
 "cells": [
  {
   "cell_type": "markdown",
   "metadata": {},
   "source": [
    "# DGA domain classifier"
   ]
  },
  {
   "cell_type": "markdown",
   "metadata": {},
   "source": [
    "The goal of this notebook is to demonstrate how to perform real-time `DGA` domain classification *(Domain Generation Algorithms)* using a machine learning model for logs stored in the Devo platform.\n",
    "\n",
    "Firstly, a model is trained with the `H2O` engine and registered in Devo using the Python ML Model Manager Client.\n",
    "\n",
    "Finally, the domain classification is performed in real time using the `mlevalmodel` operation from the Devo query engine."
   ]
  },
  {
   "cell_type": "markdown",
   "metadata": {},
   "source": [
    "## Requirements"
   ]
  },
  {
   "cell_type": "markdown",
   "metadata": {},
   "source": [
    "Table *demo.ecommerce.data* in Devo."
   ]
  },
  {
   "cell_type": "markdown",
   "metadata": {
    "tags": []
   },
   "source": [
    "## Install"
   ]
  },
  {
   "cell_type": "code",
   "execution_count": null,
   "metadata": {
    "collapsed": false,
    "jupyter": {
     "outputs_hidden": false
    }
   },
   "outputs": [],
   "source": [
    "!pip install devo-sdk\n",
    "!pip install devo-mlmodelmanager\n",
    "!pip install h2o"
   ]
  },
  {
   "cell_type": "markdown",
   "metadata": {},
   "source": [
    "## Imports"
   ]
  },
  {
   "cell_type": "code",
   "execution_count": null,
   "metadata": {
    "collapsed": false,
    "jupyter": {
     "outputs_hidden": false
    }
   },
   "outputs": [],
   "source": [
    "import os\n",
    "import h2o\n",
    "\n",
    "from h2o.estimators import H2OGradientBoostingEstimator\n",
    "from devo.api import Client, ClientConfig, SIMPLECOMPACT_TO_OBJ\n",
    "from devo_ml.modelmanager import create_client_from_token, engines"
   ]
  },
  {
   "cell_type": "markdown",
   "metadata": {},
   "source": [
    "## Setup"
   ]
  },
  {
   "cell_type": "code",
   "execution_count": null,
   "metadata": {
    "collapsed": false,
    "jupyter": {
     "outputs_hidden": false
    }
   },
   "outputs": [],
   "source": [
    "# A valid Devo access token\n",
    "TOKEN = ''\n",
    "\n",
    "# URL of Devo API, e.g. https://apiv2-us.devo.com/search/query/\n",
    "DEVO_API_URL = ''\n",
    "\n",
    "# URL of Devo ML Model Manager, e.g. https://api-us.devo.com/mlmodelmanager/\n",
    "DEVO_MLMM_URL = ''\n",
    "\n",
    "# The domain to connect to, e.g. self\n",
    "DOMAIN = ''\n",
    "\n",
    "# The name of the model\n",
    "NAME = 'dga_classifier'\n",
    "\n",
    "# The description of the models\n",
    "DESCRIPTION = 'DGA domain classifier'\n",
    "\n",
    "# The path where model file will be stored\n",
    "MODELS_PATH = 'models'\n",
    "\n",
    "# The URL of a dataset to build the model\n",
    "DATASET_URL = \"https://devo-ml-models-public-demos.s3.eu-west-3.amazonaws.com/legit_dga/dataset.csv\"\n",
    "\n",
    "VOWELS = \"aeiouAEIOU\""
   ]
  },
  {
   "cell_type": "markdown",
   "metadata": {},
   "source": [
    "## ML model"
   ]
  },
  {
   "cell_type": "code",
   "execution_count": null,
   "metadata": {
    "collapsed": false,
    "jupyter": {
     "outputs_hidden": false
    }
   },
   "outputs": [],
   "source": [
    "h2o.init()"
   ]
  },
  {
   "cell_type": "code",
   "execution_count": null,
   "metadata": {
    "collapsed": false,
    "jupyter": {
     "outputs_hidden": false
    }
   },
   "outputs": [],
   "source": [
    "# import dataset\n",
    "domains = h2o.import_file(DATASET_URL, header=1)"
   ]
  },
  {
   "cell_type": "code",
   "execution_count": null,
   "metadata": {
    "collapsed": false,
    "jupyter": {
     "outputs_hidden": false
    }
   },
   "outputs": [],
   "source": [
    "'''\n",
    "Prepare data set\n",
    "    1. Domain length\n",
    "    2. Shannon entropy\n",
    "    3. Vowel proportion\n",
    "    4. Malicious flag\n",
    "'''\n",
    "domains = domains[~domains['subclass'].isna()]\n",
    "domains['length'] = domains['domain'].nchar()\n",
    "domains['entropy'] = domains['domain'].entropy()\n",
    "domains['vowel_proportion'] = 0\n",
    "for v in VOWELS:\n",
    "    domains['vowel_proportion'] += domains['domain'].countmatches(v)\n",
    "domains['vowel_proportion'] /= domains['length']\n",
    "domains['malicious'] = domains['class'] != 'legit'\n",
    "domains['malicious'] = domains['malicious'].asfactor()"
   ]
  },
  {
   "cell_type": "code",
   "execution_count": 43,
   "metadata": {
    "collapsed": false,
    "jupyter": {
     "outputs_hidden": false
    }
   },
   "outputs": [],
   "source": [
    "train, valid = domains.split_frame(ratios=[.8], seed=1234)"
   ]
  },
  {
   "cell_type": "code",
   "execution_count": null,
   "metadata": {
    "collapsed": false,
    "jupyter": {
     "outputs_hidden": false
    }
   },
   "outputs": [],
   "source": [
    "model = H2OGradientBoostingEstimator(model_id=NAME)"
   ]
  },
  {
   "cell_type": "code",
   "execution_count": null,
   "metadata": {
    "collapsed": false,
    "jupyter": {
     "outputs_hidden": false
    }
   },
   "outputs": [],
   "source": [
    "model.train(\n",
    "    x=['length', 'entropy', 'vowel_proportion'],\n",
    "    y='malicious',\n",
    "    training_frame=train,\n",
    "    validation_frame=valid\n",
    ")"
   ]
  },
  {
   "cell_type": "code",
   "execution_count": null,
   "metadata": {
    "collapsed": false,
    "jupyter": {
     "outputs_hidden": false
    }
   },
   "outputs": [],
   "source": [
    "# Create path if not exists\n",
    "os.makedirs(MODELS_PATH, exist_ok=True)"
   ]
  },
  {
   "cell_type": "code",
   "execution_count": null,
   "metadata": {
    "collapsed": false,
    "jupyter": {
     "outputs_hidden": false
    }
   },
   "outputs": [],
   "source": [
    "model.download_mojo(path=MODELS_PATH)"
   ]
  },
  {
   "cell_type": "code",
   "execution_count": null,
   "metadata": {
    "collapsed": false,
    "jupyter": {
     "outputs_hidden": false
    }
   },
   "outputs": [],
   "source": [
    "h2o.cluster().shutdown()"
   ]
  },
  {
   "cell_type": "markdown",
   "metadata": {},
   "source": [
    "## Register the model in Devo"
   ]
  },
  {
   "cell_type": "code",
   "execution_count": null,
   "metadata": {
    "collapsed": false,
    "jupyter": {
     "outputs_hidden": false
    }
   },
   "outputs": [],
   "source": [
    "mlmm = create_client_from_token(DEVO_MLMM_URL, TOKEN)"
   ]
  },
  {
   "cell_type": "code",
   "execution_count": null,
   "metadata": {
    "collapsed": false,
    "jupyter": {
     "outputs_hidden": false
    }
   },
   "outputs": [],
   "source": [
    "mlmm.add_model(\n",
    "    NAME,\n",
    "    engines.H2O,\n",
    "    os.path.join(MODELS_PATH, f\"{NAME}.zip\"),\n",
    "    description=DESCRIPTION,\n",
    "    force=True\n",
    ")"
   ]
  },
  {
   "cell_type": "markdown",
   "metadata": {},
   "source": [
    "## Classify DGA domains"
   ]
  },
  {
   "cell_type": "code",
   "execution_count": null,
   "metadata": {
    "collapsed": false,
    "jupyter": {
     "outputs_hidden": false
    }
   },
   "outputs": [],
   "source": [
    "# use in the query the mlevalmodel operator to evaluate the model\n",
    "\n",
    "query = f'''from demo.ecommerce.data\n",
    "  select split(referralUri, \"/\",2) as domain,\n",
    "  float(length(domain)) as length,\n",
    "  shannonentropy(domain) as entropy,\n",
    "  float(countbyfilter(domain, \"{VOWELS}\")) as vowel_proportion,\n",
    "  mlevalmodel(\"{DOMAIN}\", \"{NAME}\", length, entropy, vowel_proportion) as class\n",
    "'''"
   ]
  },
  {
   "cell_type": "code",
   "execution_count": null,
   "metadata": {
    "collapsed": false,
    "jupyter": {
     "outputs_hidden": false
    }
   },
   "outputs": [],
   "source": [
    "api = Client(\n",
    "    auth={\"token\": TOKEN},\n",
    "    address=DEVO_API_URL,\n",
    "    config=ClientConfig(\n",
    "        response=\"json/simple/compact\",\n",
    "        stream=True,\n",
    "        processor=SIMPLECOMPACT_TO_OBJ\n",
    "    )\n",
    ")"
   ]
  },
  {
   "cell_type": "code",
   "execution_count": null,
   "metadata": {
    "collapsed": false,
    "jupyter": {
     "outputs_hidden": false
    }
   },
   "outputs": [],
   "source": [
    "response = api.query(query=query, dates={'from': \"now()-1*hour()\"})"
   ]
  },
  {
   "cell_type": "code",
   "execution_count": null,
   "metadata": {
    "collapsed": false,
    "jupyter": {
     "outputs_hidden": false
    }
   },
   "outputs": [],
   "source": [
    "for row in response:\n",
    "    print(row)\n"
   ]
  }
 ],
 "metadata": {
  "kernelspec": {
   "display_name": "Python 3 (ipykernel)",
   "language": "python",
   "name": "python3"
  },
  "language_info": {
   "codemirror_mode": {
    "name": "ipython",
    "version": 3
   },
   "file_extension": ".py",
   "mimetype": "text/x-python",
   "name": "python",
   "nbconvert_exporter": "python",
   "pygments_lexer": "ipython3",
   "version": "3.8.10"
  }
 },
 "nbformat": 4,
 "nbformat_minor": 4
}
