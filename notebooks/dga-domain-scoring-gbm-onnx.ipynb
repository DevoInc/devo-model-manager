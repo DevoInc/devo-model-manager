{
 "cells": [
  {
   "cell_type": "markdown",
   "id": "1da8e72a-45df-4ed8-89f5-7ece428c45f4",
   "metadata": {
    "id": "1da8e72a-45df-4ed8-89f5-7ece428c45f4"
   },
   "source": [
    "# DGA domain scoring (GBM-ONNX)"
   ]
  },
  {
   "cell_type": "markdown",
   "source": [
    "This tutorial shows how to perform real-time `DGA` domain classification using\n",
    "a machine learning model to have as output the classification probability\n",
    "`(score)`.\n",
    "\n",
    "We will use the Gradient Boosting algorithm from the `scikit-learn` library to\n",
    "create a model capable of detecting whether a domain is malicious. Then we will\n",
    "transform the model into `ONNX` format in order to aggregate the scoring of the\n",
    "classification. Finally, we will register the model in **ML Model Manager** to\n",
    "enable it in the Devo Platform and exploit it through Devo query engine."
   ],
   "metadata": {
    "id": "sJQd-nKiel20"
   },
   "id": "sJQd-nKiel20"
  },
  {
   "cell_type": "markdown",
   "id": "0a822ac2-eb96-46e5-a9f7-b5725198c683",
   "metadata": {
    "id": "0a822ac2-eb96-46e5-a9f7-b5725198c683"
   },
   "source": [
    "# Requirements"
   ]
  },
  {
   "cell_type": "markdown",
   "source": [
    "Table ``demo.ecommerce.data`` in Devo."
   ],
   "metadata": {
    "id": "pqWjKw45iRhH"
   },
   "id": "pqWjKw45iRhH"
  },
  {
   "cell_type": "markdown",
   "source": [
    "## Install"
   ],
   "metadata": {
    "id": "DiYOP4JzjWgd"
   },
   "id": "DiYOP4JzjWgd"
  },
  {
   "cell_type": "code",
   "execution_count": null,
   "id": "10045d1b-7ba1-4f95-9cfb-acc0712c04d7",
   "metadata": {
    "colab": {
     "base_uri": "https://localhost:8080/"
    },
    "id": "10045d1b-7ba1-4f95-9cfb-acc0712c04d7",
    "outputId": "be0ad457-9535-4944-86da-a4ba75b980eb"
   },
   "outputs": [],
   "source": [
    "!pip install \\\n",
    "    devo-sdk \\\n",
    "    devo-mlmodelmanager \\\n",
    "    numpy \\\n",
    "    onnx \\\n",
    "    onnxruntime \\\n",
    "    pandas \\\n",
    "    scikit-learn \\\n",
    "    skl2onnx"
   ]
  },
  {
   "cell_type": "markdown",
   "source": [
    "## Imports"
   ],
   "metadata": {
    "id": "XoF1W9zDjdjl"
   },
   "id": "XoF1W9zDjdjl"
  },
  {
   "cell_type": "code",
   "execution_count": null,
   "id": "822c035c-1de2-46c4-b881-d2a6ad615428",
   "metadata": {
    "id": "822c035c-1de2-46c4-b881-d2a6ad615428"
   },
   "outputs": [],
   "source": [
    "import os\n",
    "import math\n",
    "import time\n",
    "import numpy as np\n",
    "import pandas as pd\n",
    "\n",
    "from onnx import TensorProto\n",
    "from onnx.defs import ONNX_ML_DOMAIN\n",
    "from onnx.helper import make_node, make_tensor_value_info\n",
    "from onnxruntime import InferenceSession\n",
    "from sklearn.ensemble import GradientBoostingClassifier\n",
    "from sklearn.metrics import f1_score\n",
    "from sklearn.model_selection import train_test_split\n",
    "from skl2onnx import convert_sklearn, to_onnx\n",
    "from skl2onnx.common.data_types import FloatTensorType\n",
    "from devo.api import Client, ClientConfig, SIMPLECOMPACT_TO_OBJ\n",
    "from devo_ml.modelmanager import create_client_from_token, engines"
   ]
  },
  {
   "cell_type": "markdown",
   "id": "2991d471-bea7-46cc-bec7-64110a4e889a",
   "metadata": {
    "id": "2991d471-bea7-46cc-bec7-64110a4e889a"
   },
   "source": [
    "## Setup"
   ]
  },
  {
   "cell_type": "code",
   "execution_count": null,
   "id": "ccd080ba-f909-425f-bfea-aaaf16e148de",
   "metadata": {
    "id": "ccd080ba-f909-425f-bfea-aaaf16e148de"
   },
   "outputs": [],
   "source": [
    "# A valid Devo access token\n",
    "DEVO_TOKEN = '<your_token_here>'\n",
    "\n",
    "# URL of Devo API, e.g. https://apiv2-us.devo.com/search/query/\n",
    "DEVO_API_URL = '<devo_api_url_here>'\n",
    "\n",
    "# URL of Devo ML Model Manager, e.g. https://api-us.devo.com/mlmodelmanager/\n",
    "DEVO_MLMM_URL = '<devo_mlmm_url_here>'\n",
    "\n",
    "# The domain to connect to, e.g. self\n",
    "DOMAIN = '<your_domain_here>'\n",
    "\n",
    "# The name of the model\n",
    "MODEL_NAME = 'dga_scoring'\n",
    "\n",
    "# The description of the models\n",
    "MODEL_DESCRIPTION = 'DGA domain label scoring'\n",
    "\n",
    "# File to store the onnx model\n",
    "MODEL_FILE = f'{MODEL_NAME}.onnx'\n",
    "\n",
    "# The URL of a dataset to build the model\n",
    "DATASET_URL = \"https://devo-ml-models-public-demos.s3.eu-west-3.amazonaws.com/legit_dga/dataset.csv\"\n",
    "\n",
    "# Random seed to initialize random variables\n",
    "RANDOM_SEED = 42"
   ]
  },
  {
   "cell_type": "markdown",
   "id": "b79c2286-9da0-4a55-99de-bcb6f76b0317",
   "metadata": {
    "id": "b79c2286-9da0-4a55-99de-bcb6f76b0317"
   },
   "source": [
    "## Build model"
   ]
  },
  {
   "cell_type": "code",
   "execution_count": null,
   "id": "ffd19eba-bb84-4752-b7d9-3abc2612202e",
   "metadata": {
    "colab": {
     "base_uri": "https://localhost:8080/",
     "height": 206
    },
    "id": "ffd19eba-bb84-4752-b7d9-3abc2612202e",
    "outputId": "44b3373d-b568-4424-aa4b-7f6ba502ebdc"
   },
   "outputs": [],
   "source": [
    "# Load dataset\n",
    "df = pd.read_csv(DATASET_URL, sep=';')\n",
    "df.head()"
   ]
  },
  {
   "cell_type": "code",
   "execution_count": null,
   "id": "28ffa364-3526-4c40-817e-8809daab12ce",
   "metadata": {
    "id": "28ffa364-3526-4c40-817e-8809daab12ce"
   },
   "outputs": [],
   "source": [
    "def entropy(text):\n",
    "    \"\"\"Helper function to calculate the Shannon entropy of a text.\"\"\"\n",
    "    prob = [float(text.count(c)) / len(text) for c in set(text)]\n",
    "    return -sum([p * math.log(p) / math.log(2.0) for p in prob])"
   ]
  },
  {
   "cell_type": "code",
   "execution_count": null,
   "id": "42a3d3c8-527f-4410-a249-66f181ccf8ca",
   "metadata": {
    "colab": {
     "base_uri": "https://localhost:8080/",
     "height": 206
    },
    "id": "42a3d3c8-527f-4410-a249-66f181ccf8ca",
    "outputId": "b360f2be-3a4f-407c-8af7-94ee2070bf64"
   },
   "outputs": [],
   "source": [
    "# Prepare dataset\n",
    "df = df[~df['subclass'].isna()]\n",
    "df['length'] = df['domain'].apply(lambda x: len(x))\n",
    "df['vowel_proportion'] = df['domain'].apply(lambda x: sum([x.lower().count(v) for v in 'aeiou']) / len(x))\n",
    "df['entropy'] = df['domain'].apply(lambda x: entropy(x))\n",
    "df['malicious'] = df['class'].apply(lambda x: int(x != 'legit'))\n",
    "df.head()"
   ]
  },
  {
   "cell_type": "code",
   "execution_count": null,
   "id": "ccc19b48-8e3e-49d7-8316-504ee92cb1fc",
   "metadata": {
    "id": "ccc19b48-8e3e-49d7-8316-504ee92cb1fc"
   },
   "outputs": [],
   "source": [
    "X_data = df[['length', 'vowel_proportion', 'entropy']].values\n",
    "y_data = df['malicious'].values"
   ]
  },
  {
   "cell_type": "code",
   "execution_count": null,
   "id": "58cfe65e-1a07-4a96-b212-0761c43862c0",
   "metadata": {
    "id": "58cfe65e-1a07-4a96-b212-0761c43862c0"
   },
   "outputs": [],
   "source": [
    "X_train, X_test, y_train, y_test = train_test_split(X_data, y_data, random_state=RANDOM_SEED)"
   ]
  },
  {
   "cell_type": "code",
   "execution_count": null,
   "id": "75b3fd0b-a2e3-40ca-b983-a0ccfceb0ec0",
   "metadata": {
    "id": "75b3fd0b-a2e3-40ca-b983-a0ccfceb0ec0"
   },
   "outputs": [],
   "source": [
    "# Train model\n",
    "model = GradientBoostingClassifier(random_state=RANDOM_SEED)\n",
    "model = model.fit(X_train, y_train)"
   ]
  },
  {
   "cell_type": "code",
   "execution_count": null,
   "id": "b03df7cb-9f52-488c-8447-7d3883705b18",
   "metadata": {
    "colab": {
     "base_uri": "https://localhost:8080/"
    },
    "id": "b03df7cb-9f52-488c-8447-7d3883705b18",
    "outputId": "66b0a4cd-fa4c-4ee2-8115-aa2256793d7c"
   },
   "outputs": [],
   "source": [
    "# Validate how good is the model\n",
    "pred_test = model.predict(X_test)\n",
    "score = f1_score(y_test, pred_test)\n",
    "print(f'F1-Score: {score:.4f}')"
   ]
  },
  {
   "cell_type": "markdown",
   "id": "3ec8ae29-6058-4866-b74e-a67b6acab9cc",
   "metadata": {
    "id": "3ec8ae29-6058-4866-b74e-a67b6acab9cc"
   },
   "source": [
    "## Transform into ONNX"
   ]
  },
  {
   "cell_type": "code",
   "execution_count": null,
   "id": "b63bb99e-36af-42a0-99f1-398a4cd1d47d",
   "metadata": {
    "id": "b63bb99e-36af-42a0-99f1-398a4cd1d47d"
   },
   "outputs": [],
   "source": [
    "# Transform to ONNX format\n",
    "onnx_model = to_onnx(\n",
    "    model,\n",
    "    X_train.astype(np.float32),\n",
    "    target_opset=13,\n",
    ")\n",
    "\n",
    "# Remove all defined outputs, we will define them in the next steps\n",
    "while onnx_model.graph.output:\n",
    "    _ = onnx_model.graph.output.pop()\n",
    "\n",
    "# Remove node ZipMap since it won't be necessary\n",
    "n_nodes = len(onnx_model.graph.node)\n",
    "for i in range(n_nodes):\n",
    "    if onnx_model.graph.node[i].name == 'ZipMap':\n",
    "        del onnx_model.graph.node[i]\n",
    "        break"
   ]
  },
  {
   "cell_type": "code",
   "execution_count": null,
   "id": "80486913-bcd7-4c34-b40f-f4c9731b656c",
   "metadata": {
    "id": "80486913-bcd7-4c34-b40f-f4c9731b656c"
   },
   "outputs": [],
   "source": [
    "node = make_node(\n",
    "    'Constant',\n",
    "    inputs=[],\n",
    "    outputs=['output_pos'],\n",
    "    value_int=0,\n",
    ")\n",
    "onnx_model.graph.node.append(node)\n",
    "\n",
    "node = make_node(\n",
    "    'ArrayFeatureExtractor',\n",
    "    inputs=['probabilities', 'output_pos'],\n",
    "    outputs=['output_probability_at'],\n",
    "    domain=ONNX_ML_DOMAIN,\n",
    ")\n",
    "onnx_model.graph.node.append(node)\n",
    "\n",
    "onnx_model.graph.output.append(\n",
    "    make_tensor_value_info(\n",
    "        name='output_probability_at',\n",
    "        elem_type=TensorProto.FLOAT,\n",
    "        shape=[-1, 1],\n",
    "    )\n",
    ")"
   ]
  },
  {
   "cell_type": "code",
   "execution_count": null,
   "id": "b18e2a71-541e-47fb-94f4-cb05442e380f",
   "metadata": {
    "colab": {
     "base_uri": "https://localhost:8080/"
    },
    "id": "b18e2a71-541e-47fb-94f4-cb05442e380f",
    "outputId": "65b6d815-c0d3-4cce-bc32-1448460c83b6"
   },
   "outputs": [],
   "source": [
    "# For debug purposes, check that the model works correctly\n",
    "\n",
    "# Predict with ONNX model\n",
    "session = InferenceSession(onnx_model.SerializeToString())\n",
    "input_name = session.get_inputs()[0].name\n",
    "result = session.run(None, {input_name: X_test.astype(np.float32)})\n",
    "onnx_scores = result[0].reshape(-1)\n",
    "\n",
    "# Predict with model\n",
    "scores = model.predict_proba(X_test)[:, 0]\n",
    "\n",
    "# Compare predictions\n",
    "threshold = 1e-3\n",
    "prediction_validation = (np.abs(scores - onnx_scores) < threshold).all()"
   ]
  },
  {
   "cell_type": "code",
   "execution_count": null,
   "id": "bc7238e7-47d2-4c96-b8a5-8cf9d4f3be89",
   "metadata": {
    "colab": {
     "base_uri": "https://localhost:8080/"
    },
    "id": "bc7238e7-47d2-4c96-b8a5-8cf9d4f3be89",
    "outputId": "8d433157-3a37-4ca1-b8dc-aa1344070e58"
   },
   "outputs": [],
   "source": [
    "# For debug purposes, display output of the ONNX model\n",
    "onnx_scores"
   ]
  },
  {
   "cell_type": "code",
   "execution_count": null,
   "id": "7669fb15-f8d7-46a8-bab6-cac44b3811cc",
   "metadata": {
    "id": "7669fb15-f8d7-46a8-bab6-cac44b3811cc"
   },
   "outputs": [],
   "source": [
    "# Save model\n",
    "with open(MODEL_FILE, 'wb') as fp:\n",
    "    fp.write(onnx_model.SerializeToString())"
   ]
  },
  {
   "cell_type": "markdown",
   "id": "36bb8911-2679-47d4-afac-e36a38ab342d",
   "metadata": {
    "id": "36bb8911-2679-47d4-afac-e36a38ab342d"
   },
   "source": [
    "## Register the model"
   ]
  },
  {
   "cell_type": "code",
   "execution_count": null,
   "id": "1c5ecbb8-d999-42fd-a6ac-eb397dd02e34",
   "metadata": {
    "id": "1c5ecbb8-d999-42fd-a6ac-eb397dd02e34"
   },
   "outputs": [],
   "source": [
    "# Create the Devo MLMM client and register the model\n",
    "mlmm_client = create_client_from_token(DEVO_MLMM_URL, DEVO_TOKEN)\n",
    "mlmm_client.add_model(\n",
    "    MODEL_NAME,\n",
    "    engines.ONNX,\n",
    "    MODEL_FILE,\n",
    "    description=MODEL_DESCRIPTION,\n",
    "    force=True,\n",
    ")"
   ]
  },
  {
   "cell_type": "markdown",
   "id": "995a43f6-0261-4e21-8bd5-fa94d1a712dc",
   "metadata": {
    "id": "995a43f6-0261-4e21-8bd5-fa94d1a712dc"
   },
   "source": [
    "## Scoring domains"
   ]
  },
  {
   "cell_type": "code",
   "execution_count": null,
   "id": "d9e281c7-4647-4e75-a6c1-36e4257f426d",
   "metadata": {
    "id": "d9e281c7-4647-4e75-a6c1-36e4257f426d"
   },
   "outputs": [],
   "source": [
    "query = f'''from demo.ecommerce.data\n",
    "select\n",
    "    eventdate,\n",
    "    split(referralUri, \"/\", 2) as domain\n",
    "group by domain every -\n",
    "select\n",
    "    float4(length(domain)) as length,\n",
    "    float4(shannonentropy(domain)) as entropy,\n",
    "    float4(countbyfilter(domain, \"aeiouAEIOU\") / length) as vowel_proportion,\n",
    "    at(mlevalmodel(\n",
    "        \"{DOMAIN}\",\n",
    "        \"{MODEL_NAME}\",\n",
    "        [length, vowel_proportion, entropy]\n",
    "    ), 0) as score\n",
    "'''"
   ]
  },
  {
   "cell_type": "code",
   "execution_count": null,
   "id": "bd5613c9-59cb-4a45-a0d1-4fa5a6269f44",
   "metadata": {
    "colab": {
     "base_uri": "https://localhost:8080/"
    },
    "id": "bd5613c9-59cb-4a45-a0d1-4fa5a6269f44",
    "outputId": "d6ba6f14-771f-47a5-fc75-6fac12819496"
   },
   "outputs": [],
   "source": [
    "# For debug purposes, display query\n",
    "print(query)"
   ]
  },
  {
   "cell_type": "code",
   "execution_count": null,
   "id": "7bdd6371-0b99-4aa2-b285-3e283b70219b",
   "metadata": {
    "colab": {
     "base_uri": "https://localhost:8080/"
    },
    "id": "7bdd6371-0b99-4aa2-b285-3e283b70219b",
    "outputId": "a4229a2f-9dcf-4f32-c80e-22e87f82d9a0"
   },
   "outputs": [],
   "source": [
    "# Create a Devo API client\n",
    "api = Client(\n",
    "    auth={'token': DEVO_TOKEN},\n",
    "    address=DEVO_API_URL,\n",
    "    config=ClientConfig(\n",
    "        response='json/simple/compact',\n",
    "        stream=True,\n",
    "        processor=SIMPLECOMPACT_TO_OBJ,\n",
    "    ),\n",
    ")\n",
    "\n",
    "response = api.query(\n",
    "    query=query,\n",
    "    dates={'from': 'now() - 1 * hour()', 'to': 'now()'}\n",
    ")\n",
    "\n",
    "for row in response:\n",
    "    print(row)\n"
   ]
  }
 ],
 "metadata": {
  "kernelspec": {
   "display_name": "venv",
   "language": "python",
   "name": "venv"
  },
  "language_info": {
   "codemirror_mode": {
    "name": "ipython",
    "version": 3
   },
   "file_extension": ".py",
   "mimetype": "text/x-python",
   "name": "python",
   "nbconvert_exporter": "python",
   "pygments_lexer": "ipython3",
   "version": "3.8.9"
  },
  "colab": {
   "provenance": []
  }
 },
 "nbformat": 4,
 "nbformat_minor": 5
}
