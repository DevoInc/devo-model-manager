{
 "cells": [
  {
   "cell_type": "markdown",
   "metadata": {
    "id": "EIK90ohFsWd9"
   },
   "source": [
    "# Ecommerce Clustering (kmeans)"
   ]
  },
  {
   "cell_type": "markdown",
   "metadata": {
    "id": "rnIlVe3IxY6f"
   },
   "source": [
    "This tutorial shows how to perform a classification task based on unsupervised training using the kmeans algorithm.\n",
    "\n",
    "The main goal of this tutorial is about how to export your model to ONNX format supported by Devo platform.\n",
    "\n",
    "ONNX is an open format to represent different machine learning models. There are many frameworks like pytorch, libsvm, keras, mxnet, tensorflow, etc. whose models can be exported to onnx.\n",
    "\n",
    "In this example we are going to show how to create a model using kmeans from sklearn library and exporting the model to ONNX. Finally, the model is evaluated using the devo query engine in order to classify the entity behaviour in table demo.ecommerce."
   ]
  },
  {
   "cell_type": "markdown",
   "metadata": {
    "id": "EVqs6mDQGYSl"
   },
   "source": [
    "# Requirements"
   ]
  },
  {
   "cell_type": "markdown",
   "metadata": {
    "id": "eSjrUPnTKrud"
   },
   "source": [
    "Table *demo.ecommerce.data* in Devo."
   ]
  },
  {
   "cell_type": "markdown",
   "metadata": {
    "id": "n0FtYX9-d0SJ"
   },
   "source": [
    "# Install"
   ]
  },
  {
   "cell_type": "code",
   "execution_count": null,
   "metadata": {
    "colab": {
     "base_uri": "https://localhost:8080/"
    },
    "id": "Qlcteu-nYEiC",
    "outputId": "114d04e8-e089-4478-b746-e23bd4e609d7",
    "pycharm": {
     "is_executing": true
    }
   },
   "outputs": [],
   "source": [
    "!pip install devo-sdk\n",
    "!pip install devo-mlmodelmanager\n",
    "!pip install scikit-learn\n",
    "!pip install onnx\n",
    "!pip install numpy\n",
    "!pip install pandas\n",
    "!pip install skl2onnx"
   ]
  },
  {
   "cell_type": "markdown",
   "metadata": {
    "id": "U37wsBRyGrvN"
   },
   "source": [
    "# Imports"
   ]
  },
  {
   "cell_type": "code",
   "execution_count": null,
   "metadata": {
    "id": "DQVVGIq-tiiX"
   },
   "outputs": [],
   "source": [
    "import numpy as np\n",
    "import pandas as pd\n",
    "import onnx\n",
    "\n",
    "from onnx import helper, TensorProto\n",
    "from onnx.tools import update_model_dims\n",
    "from sklearn.cluster import KMeans\n",
    "from skl2onnx import convert_sklearn, to_onnx\n",
    "from devo.api import Client, ClientConfig, JSON,  SIMPLECOMPACT_TO_OBJ\n",
    "from devo_ml.modelmanager import create_client_from_token, engines"
   ]
  },
  {
   "cell_type": "markdown",
   "metadata": {
    "id": "Wb9Hnu58tiiY"
   },
   "source": [
    "# Setup"
   ]
  },
  {
   "cell_type": "code",
   "execution_count": null,
   "metadata": {
    "id": "Npk__RzttiiY"
   },
   "outputs": [],
   "source": [
    "# A valid Devo access token\n",
    "TOKEN = ''\n",
    "\n",
    "# URL of Devo API, e.g. https://apiv2-us.devo.com/search/query/\n",
    "DEVO_API_URL = ''\n",
    "\n",
    "# URL of Devo ML Model Manager, e.g. https://api-us.devo.com/mlmodelmanager/\n",
    "DEVO_MLMM_URL = ''\n",
    "\n",
    "# The domain to connect to, e.g. self\n",
    "DOMAIN = ''\n",
    "\n",
    "# The name of the model\n",
    "NAME = 'ecommerce_cluster'\n",
    "\n",
    "# The description of the models\n",
    "DESCRIPTION = 'Demo of ecommerce clustering'\n",
    "\n",
    "# File to store the onnx model\n",
    "MODEL_FILE = f'{NAME}.onnx'"
   ]
  },
  {
   "cell_type": "markdown",
   "metadata": {
    "id": "NlX4TqFZIbAF"
   },
   "source": [
    "# ML model"
   ]
  },
  {
   "cell_type": "markdown",
   "metadata": {
    "id": "kZjTdta_d38_"
   },
   "source": [
    "### Query data from Devo"
   ]
  },
  {
   "cell_type": "code",
   "execution_count": null,
   "metadata": {
    "id": "kH4CK_ROcujB"
   },
   "outputs": [],
   "source": [
    "api = Client(\n",
    "    auth={'token': TOKEN},\n",
    "    address=DEVO_API_URL,\n",
    "    config=ClientConfig(\n",
    "        response='json/simple/compact',\n",
    "        stream=True,\n",
    "        processor=SIMPLECOMPACT_TO_OBJ\n",
    "    )\n",
    ")"
   ]
  },
  {
   "cell_type": "code",
   "execution_count": null,
   "metadata": {
    "id": "k6DbDpTCSj7w"
   },
   "outputs": [],
   "source": [
    "query = '''from demo.ecommerce.data where isnotnull(clientIpAddress)\n",
    "select\n",
    "    hour(eventdate) as hour,\n",
    "    minute(eventdate) as minute,\n",
    "    second(eventdate) as second,\n",
    "    clientIpAddress,\n",
    "    userAgent\n",
    "group every 8h by clientIpAddress\n",
    "select\n",
    "    str(clientIpAddress) as sourceIp,\n",
    "    float4(size(collectcompact(hour))) as unique_hours,\n",
    "    float4(size(collectcompact(minute))) as unique_mins,\n",
    "    float4(size(collectcompact(second))) as unique_seconds,\n",
    "    float4(size(collectcompact(userAgent))) as unique_user_agents,\n",
    "    float4(avg(bytesTransferred)) as bytestransferred\n",
    "'''"
   ]
  },
  {
   "cell_type": "code",
   "execution_count": null,
   "metadata": {
    "id": "j7uM-HcudjJ7"
   },
   "outputs": [],
   "source": [
    "response = api.query(\n",
    "    query=query,\n",
    "    dates={'from': 'today() - 2 * day()', 'to': 'today() - 1 * day()'}\n",
    ")"
   ]
  },
  {
   "cell_type": "code",
   "execution_count": null,
   "metadata": {
    "id": "4twVGT5UMhqe"
   },
   "outputs": [],
   "source": [
    "raw_data = pd.DataFrame(\n",
    "    response,\n",
    "    columns=[\n",
    "        'sourceIp',\n",
    "        'unique_hours',\n",
    "        'unique_mins',\n",
    "        'unique_seconds',\n",
    "        'unique_user_agents',\n",
    "        'bytestransferred',\n",
    "    ],\n",
    ")"
   ]
  },
  {
   "cell_type": "code",
   "execution_count": null,
   "metadata": {
    "colab": {
     "base_uri": "https://localhost:8080/",
     "height": 206
    },
    "id": "d-cV_R63wK6k",
    "outputId": "c52183a7-fdff-44e7-db84-701b008a1bd9"
   },
   "outputs": [],
   "source": [
    "raw_data.head()"
   ]
  },
  {
   "cell_type": "code",
   "execution_count": null,
   "metadata": {
    "colab": {
     "base_uri": "https://localhost:8080/",
     "height": 300
    },
    "id": "guRI6ypM76b9",
    "outputId": "349f5105-fe3e-4fc0-ee64-8d67e3a10f15"
   },
   "outputs": [],
   "source": [
    "raw_data.describe()"
   ]
  },
  {
   "cell_type": "markdown",
   "metadata": {
    "id": "QWvMfUY1tiiZ"
   },
   "source": [
    "### Create and train model"
   ]
  },
  {
   "cell_type": "code",
   "execution_count": null,
   "metadata": {
    "id": "87Ig2dpv8fnu"
   },
   "outputs": [],
   "source": [
    "train_data = raw_data.select_dtypes(include=np.number).to_numpy()"
   ]
  },
  {
   "cell_type": "code",
   "execution_count": null,
   "metadata": {
    "id": "nCWE5HaCtiiZ"
   },
   "outputs": [],
   "source": [
    "# Train K-Means model\n",
    "model = KMeans(\n",
    "    n_clusters=3,\n",
    "    init='k-means++',\n",
    "    verbose=0,\n",
    "    max_iter=300,\n",
    "    random_state=42\n",
    ").fit(train_data)"
   ]
  },
  {
   "cell_type": "code",
   "execution_count": null,
   "metadata": {
    "collapsed": false
   },
   "outputs": [],
   "source": [
    "# Transform to ONNX format\n",
    "model_onnx = to_onnx(\n",
    "    model,\n",
    "    train_data.astype(np.float32),\n",
    "    target_opset=13,\n",
    ")\n",
    "_ = model_onnx.graph.output.pop(1)  # Output: scores (discarded)\n",
    "_ = model_onnx.graph.output.pop(0)  # Output: label (discarded)"
   ]
  },
  {
   "cell_type": "code",
   "execution_count": null,
   "metadata": {
    "id": "vILgsvYQtiiZ"
   },
   "outputs": [],
   "source": [
    "# Last output should be float to work in Devo\n",
    "cast_node = helper.make_node(\n",
    "    'Cast',\n",
    "    inputs=['label'],\n",
    "    outputs=['label_cast'],\n",
    "    name='output_label_cast',\n",
    "    to=TensorProto.FLOAT,\n",
    ")\n",
    "model_onnx.graph.node.append(cast_node)\n",
    "model_onnx.graph.output.append(\n",
    "    helper.make_tensor_value_info(\n",
    "        name='label_cast',\n",
    "        elem_type=TensorProto.FLOAT,\n",
    "        shape=[-1],\n",
    "    )\n",
    ")"
   ]
  },
  {
   "cell_type": "code",
   "execution_count": null,
   "metadata": {
    "id": "IAocWXHhtiiZ"
   },
   "outputs": [],
   "source": [
    "# Expand last dimension, so it has two dimensions: batch and item\n",
    "# It's required only for the kmeans in sklearn, other algorithms like linear regression\n",
    "# do not require this conversion\n",
    "model_onnx = onnx.compose.expand_out_dim(model_onnx, dim_idx=1)\n",
    "model_onnx = update_model_dims.update_inputs_outputs_dims(\n",
    "    model_onnx,\n",
    "    {'X': [-1, 5]},\n",
    "    {'label_cast': [-1, 1]},\n",
    ")"
   ]
  },
  {
   "cell_type": "code",
   "execution_count": null,
   "metadata": {
    "id": "mHavSDPetiia"
   },
   "outputs": [],
   "source": [
    "# Save model to file\n",
    "with open(MODEL_FILE, 'wb') as fp:\n",
    "    fp.write(model_onnx.SerializeToString())"
   ]
  },
  {
   "cell_type": "markdown",
   "metadata": {
    "id": "iyJ7JkUctiia"
   },
   "source": [
    "# Register the model in Devo"
   ]
  },
  {
   "cell_type": "code",
   "execution_count": null,
   "metadata": {
    "id": "ObSbO58zD9dm"
   },
   "outputs": [],
   "source": [
    "# Create the Devo MLMM client and register the model\n",
    "mlmm_client = create_client_from_token(DEVO_MLMM_URL, TOKEN)\n",
    "mlmm_client.add_model(\n",
    "    NAME,\n",
    "    engines.ONNX,\n",
    "    MODEL_FILE,\n",
    "    description=DESCRIPTION,\n",
    "    force=True\n",
    ")"
   ]
  },
  {
   "cell_type": "markdown",
   "metadata": {
    "id": "ubnawUi8K5mf"
   },
   "source": [
    "# Use the model"
   ]
  },
  {
   "cell_type": "code",
   "execution_count": null,
   "metadata": {
    "id": "xX9T6cvPKIaI"
   },
   "outputs": [],
   "source": [
    "query = f'''from demo.ecommerce.data where isnotnull(clientIpAddress)\n",
    "select\n",
    "    hour(eventdate) as hour,\n",
    "    minute(eventdate) as minute,\n",
    "    second(eventdate) as second,\n",
    "    clientIpAddress,\n",
    "    userAgent\n",
    "group every 8h by clientIpAddress\n",
    "select\n",
    "    str(clientIpAddress) as sourceIp,\n",
    "    float4(size(collectcompact(hour))) as unique_hours,\n",
    "    float4(size(collectcompact(minute))) as unique_mins,\n",
    "    float4(size(collectcompact(second))) as unique_seconds,\n",
    "    float4(size(collectcompact(userAgent))) as unique_user_agents,\n",
    "    float4(avg(bytesTransferred)) as bytestransferred,\n",
    "    at(mlevalmodel(\n",
    "        \"{DOMAIN}\",\n",
    "        \"{NAME}\",\n",
    "        [unique_hours, unique_mins, unique_seconds, unique_user_agents, bytestransferred]), 0) as label,\n",
    "    ifthenelse(label = 0.0, \"IU\", ifthenelse(label = 1.0, \"AU\", \"MU\")) as type\n",
    "'''"
   ]
  },
  {
   "cell_type": "code",
   "execution_count": null,
   "metadata": {
    "colab": {
     "base_uri": "https://localhost:8080/",
     "height": 1000
    },
    "id": "4BkDyuNlLUP7",
    "outputId": "a824badc-6f13-4a2f-a42e-1b9efc90526d"
   },
   "outputs": [],
   "source": [
    "response = api.query(\n",
    "    query=query,\n",
    "    dates={'from': 'today() - 1 * day()'}\n",
    ")"
   ]
  },
  {
   "cell_type": "code",
   "execution_count": null,
   "metadata": {
    "collapsed": false
   },
   "outputs": [],
   "source": [
    "for row in response:\n",
    "    print(\"IP:\", row['sourceIp'], \"type\", row['type'])\n"
   ]
  }
 ],
 "metadata": {
  "colab": {
   "collapsed_sections": [
    "n0FtYX9-d0SJ",
    "2DwcuBjxQ4N_"
   ],
   "provenance": []
  },
  "kernelspec": {
   "display_name": "Python 3",
   "language": "python",
   "name": "python3"
  },
  "language_info": {
   "codemirror_mode": {
    "name": "ipython",
    "version": 3
   },
   "file_extension": ".py",
   "mimetype": "text/x-python",
   "name": "python",
   "nbconvert_exporter": "python",
   "pygments_lexer": "ipython3",
   "version": "3.11.2"
  },
  "vscode": {
   "interpreter": {
    "hash": "ead1b95f633dc9c51826328e1846203f51a198c6fb5f2884a80417ba131d4e82"
   }
  }
 },
 "nbformat": 4,
 "nbformat_minor": 0
}
